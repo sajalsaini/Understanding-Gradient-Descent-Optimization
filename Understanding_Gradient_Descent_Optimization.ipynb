{
  "nbformat": 4,
  "nbformat_minor": 0,
  "metadata": {
    "colab": {
      "provenance": []
    },
    "kernelspec": {
      "name": "python3",
      "display_name": "Python 3"
    },
    "language_info": {
      "name": "python"
    }
  },
  "cells": [
    {
      "cell_type": "code",
      "execution_count": 1,
      "metadata": {
        "id": "T3c-EUR8cySI"
      },
      "outputs": [],
      "source": [
        "import numpy as np\n",
        "import matplotlib.pyplot as plt"
      ]
    },
    {
      "cell_type": "code",
      "source": [
        "# Creating a function to optimize\n",
        "\n",
        "def f(x):\n",
        "  return np.sin(2 * x) + x ** 2\n",
        "\n",
        "# Finding the gradient of this function by simple differentiation\n",
        "# Differential of sin(nx) is ncos(nx)\n",
        "\n",
        "def grad_f(x):\n",
        "  return 2 * np.cos(2 * x) + 2 * x"
      ],
      "metadata": {
        "id": "ZFy2qLG9dNbJ"
      },
      "execution_count": 8,
      "outputs": []
    },
    {
      "cell_type": "code",
      "source": [
        "# Visualising the function\n",
        "\n",
        "x = np.linspace(-2, 2, 100)\n",
        "y = f(x)\n",
        "plt.plot(x, y)"
      ],
      "metadata": {
        "colab": {
          "base_uri": "https://localhost:8080/",
          "height": 285
        },
        "id": "0HPac_6vedlZ",
        "outputId": "7e7e7f00-da64-43c0-ecb5-65e231cc41f3"
      },
      "execution_count": 9,
      "outputs": [
        {
          "output_type": "execute_result",
          "data": {
            "text/plain": [
              "[<matplotlib.lines.Line2D at 0x7f2f8295a590>]"
            ]
          },
          "metadata": {},
          "execution_count": 9
        },
        {
          "output_type": "display_data",
          "data": {
            "text/plain": [
              "<Figure size 432x288 with 1 Axes>"
            ],
            "image/png": "[encoded data removed]"
          },
          "metadata": {
            "needs_background": "light"
          }
        }
      ]
    },
    {
      "cell_type": "code",
      "source": [
        "# Updating parameter x with each step of gradient descent\n",
        "\n",
        "def update(x):\n",
        "  α = .0001 # Taking our learning rate as .0001\n",
        "  return x - α * grad_f(x)"
      ],
      "metadata": {
        "id": "EczdXOsWemsb"
      },
      "execution_count": 10,
      "outputs": []
    },
    {
      "cell_type": "code",
      "source": [
        "# Initalizing our guess for parameter x\n",
        "\n",
        "x = -1.5\n",
        "\n",
        "# Iterating over 10,000 times. On each iteration we are caluclating the gradient descent and then updating the parameters according to that\n",
        "\n",
        "for iterations in range(10000):\n",
        "  x = update(x)\n",
        "\n",
        "# Assigning the new parameter value to x_pred\n",
        "\n",
        "x_pred = x"
      ],
      "metadata": {
        "id": "rAyCDdDFfFP0"
      },
      "execution_count": 11,
      "outputs": []
    },
    {
      "cell_type": "code",
      "source": [
        "# Seeing our prediction of the optimum minimum of the function\n",
        "\n",
        "x_pred"
      ],
      "metadata": {
        "colab": {
          "base_uri": "https://localhost:8080/"
        },
        "id": "hgr6xsfBgCzI",
        "outputId": "a4095809-c204-484f-ce5b-9aa8d15a3ebc"
      },
      "execution_count": 13,
      "outputs": [
        {
          "output_type": "execute_result",
          "data": {
            "text/plain": [
              "-0.5186801695142876"
            ]
          },
          "metadata": {},
          "execution_count": 13
        }
      ]
    },
    {
      "cell_type": "code",
      "source": [
        "# Visualising our prediction on the graph of the function\n",
        "\n",
        "# Plotting the function\n",
        "x = np.linspace(-2, 2, 100)\n",
        "y = f(x)\n",
        "plt.plot(x, y)\n",
        "\n",
        "#Plotting the point\n",
        "plt.plot(x_pred, f(x_pred), marker = 'o')"
      ],
      "metadata": {
        "colab": {
          "base_uri": "https://localhost:8080/",
          "height": 285
        },
        "id": "yO2HRC_CgP0z",
        "outputId": "9adb4336-178a-44ee-fd22-31769140151b"
      },
      "execution_count": 14,
      "outputs": [
        {
          "output_type": "execute_result",
          "data": {
            "text/plain": [
              "[<matplotlib.lines.Line2D at 0x7f2f7a9df750>]"
            ]
          },
          "metadata": {},
          "execution_count": 14
        },
        {
          "output_type": "display_data",
          "data": {
            "text/plain": [
              "<Figure size 432x288 with 1 Axes>"
            ],
            "image/png": "[encoded data removed]"
          },
          "metadata": {
            "needs_background": "light"
          }
        }
      ]
    },
    {
      "cell_type": "code",
      "source": [
        "# The model was correctly able to find the global minimum, which means that the learning rate and iterations are perfect. "
      ],
      "metadata": {
        "id": "I2KrTLg_iTyC"
      },
      "execution_count": 15,
      "outputs": []
    }
  ]
}